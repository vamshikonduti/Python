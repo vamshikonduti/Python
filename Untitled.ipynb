{
 "cells": [
  {
   "cell_type": "markdown",
   "metadata": {},
   "source": [
    "# Markdowns\n",
    "## Markdowns\n",
    "### Markdowns\n",
    "#### Markdowns"
   ]
  },
  {
   "cell_type": "markdown",
   "metadata": {},
   "source": [
    "# insert site address\n",
    "[site](http://localhost:8888/notebooks/Vam's%20Python/Untitled.ipynb?kernel_name=python3)"
   ]
  },
  {
   "cell_type": "markdown",
   "metadata": {},
   "source": [
    "# Apple\n",
    "[this is apple](https://www.apple.com/)"
   ]
  },
  {
   "cell_type": "markdown",
   "metadata": {},
   "source": [
    "# insert image\n",
    "![text](https://cdn.pinkvilla.com/files/styles/contentpreview/public/Avengers%20Endgame%20toy%20leak%20REVEALS%20Tony%20Stark%20aka%20Iron%20Man%27s%20new%20suit%20%281%29.jpg?itok=b32q1hBr)"
   ]
  },
  {
   "cell_type": "markdown",
   "metadata": {},
   "source": [
    "# Python basics:\n",
    "Python is easy to learn\n",
    "\n"
   ]
  },
  {
   "cell_type": "markdown",
   "metadata": {},
   "source": [
    "# creating odered list\n",
    "1. ABS\n",
    "2. BCT\n",
    "      1. RTS\n"
   ]
  },
  {
   "cell_type": "markdown",
   "metadata": {},
   "source": [
    "# bold and italics text\n",
    "**VAMSHI**\n",
    "*VAMSHI*"
   ]
  },
  {
   "cell_type": "code",
   "execution_count": 5,
   "metadata": {},
   "outputs": [
    {
     "name": "stdout",
     "output_type": "stream",
     "text": [
      "Hello World, this is Chitti the ROBOT. Speed:1TZH's Memory: 1ZB\n"
     ]
    }
   ],
   "source": [
    "# First Hello world program\n",
    "print(\"Hello World, this is Chitti the ROBOT. Speed:1TZH's Memory: 1ZB\")"
   ]
  },
  {
   "cell_type": "code",
   "execution_count": 6,
   "metadata": {},
   "outputs": [
    {
     "data": {
      "text/plain": [
       "30"
      ]
     },
     "execution_count": 6,
     "metadata": {},
     "output_type": "execute_result"
    }
   ],
   "source": [
    "# Variable creation\n",
    "x=10\n",
    "y=20\n",
    "x+y"
   ]
  },
  {
   "cell_type": "code",
   "execution_count": 9,
   "metadata": {},
   "outputs": [
    {
     "data": {
      "text/plain": [
       "3.3333333333333335"
      ]
     },
     "execution_count": 9,
     "metadata": {},
     "output_type": "execute_result"
    }
   ],
   "source": [
    "# arithmetic operations\n",
    "x=10\n",
    "y=3\n",
    "x/y"
   ]
  },
  {
   "cell_type": "markdown",
   "metadata": {},
   "source": [
    "# Rules for variables\n",
    "- name has to begin with a character\n",
    "- no special character allowed except (_) underscore"
   ]
  },
  {
   "cell_type": "code",
   "execution_count": 10,
   "metadata": {
    "scrolled": true
   },
   "outputs": [
    {
     "name": "stdout",
     "output_type": "stream",
     "text": [
      "I'm  Vamshi I love  chocolates and mimi\n"
     ]
    }
   ],
   "source": [
    "name= \"Vamshi\"\n",
    "loves= \"chocolates and mimi\"\n",
    "print(\"I'm \",name,\"I love \",loves)"
   ]
  },
  {
   "cell_type": "code",
   "execution_count": 2,
   "metadata": {
    "scrolled": false
   },
   "outputs": [
    {
     "name": "stdout",
     "output_type": "stream",
     "text": [
      "enter your nameVamshi\n",
      "Enter your jersey number10\n",
      "I'm Vamshi My jersey number is 10\n"
     ]
    }
   ],
   "source": [
    "name= input(\"enter your name\")\n",
    "jno= int(input(\"Enter your jersey number\"))\n",
    "print(\"I'm\",name,\"My jersey number is\",jno)"
   ]
  },
  {
   "cell_type": "code",
   "execution_count": 1,
   "metadata": {},
   "outputs": [
    {
     "name": "stdout",
     "output_type": "stream",
     "text": [
      "Enter any number10\n",
      "Enter another number20\n",
      "addition: 30 subtraction: -10 multiplication: 200 remainder: 10\n"
     ]
    }
   ],
   "source": [
    "x= int(input(\"Enter any number\"))\n",
    "y = int(input(\"Enter another number\"))\n",
    "print(\"addition:\",x+y,\"subtraction:\",x-y,\"multiplication:\",x*y ,\"remainder:\",x%y)"
   ]
  },
  {
   "cell_type": "markdown",
   "metadata": {},
   "source": [
    "# fundamental datatypes\n",
    "- int\n",
    "- float\n",
    "- complex\n",
    "- boolean\n",
    "- string"
   ]
  },
  {
   "cell_type": "code",
   "execution_count": 3,
   "metadata": {},
   "outputs": [
    {
     "name": "stdout",
     "output_type": "stream",
     "text": [
      "<class 'int'>\n",
      "<class 'float'>\n",
      "<class 'complex'>\n"
     ]
    }
   ],
   "source": [
    "x= 10\n",
    "y = 39.10\n",
    "z= 17+5j\n",
    "print(type(x))\n",
    "print(type(y))\n",
    "print(type(z))"
   ]
  },
  {
   "cell_type": "code",
   "execution_count": 4,
   "metadata": {},
   "outputs": [
    {
     "name": "stdout",
     "output_type": "stream",
     "text": [
      "(10+20j)\n"
     ]
    }
   ],
   "source": [
    "q= complex(10,20)\n",
    "print(q)"
   ]
  },
  {
   "cell_type": "code",
   "execution_count": 5,
   "metadata": {},
   "outputs": [
    {
     "name": "stdout",
     "output_type": "stream",
     "text": [
      "(10+6j)\n",
      "(2+10j)\n",
      "(40+20j)\n"
     ]
    }
   ],
   "source": [
    "v= 6+8j\n",
    "m= 4-2j\n",
    "print(v+m)\n",
    "print(v-m)\n",
    "print(v*m)"
   ]
  },
  {
   "cell_type": "code",
   "execution_count": 6,
   "metadata": {},
   "outputs": [
    {
     "data": {
      "text/plain": [
       "False"
      ]
     },
     "execution_count": 6,
     "metadata": {},
     "output_type": "execute_result"
    }
   ],
   "source": [
    "v=20\n",
    "m=21\n",
    "v>m"
   ]
  },
  {
   "cell_type": "code",
   "execution_count": 8,
   "metadata": {},
   "outputs": [
    {
     "name": "stdout",
     "output_type": "stream",
     "text": [
      "<class 'int'>\n",
      "<class 'str'>\n",
      "<class 'float'>\n"
     ]
    }
   ],
   "source": [
    "vam=10\n",
    "print(type(vam))\n",
    "s= str(vam)\n",
    "print(type(s))\n",
    "f=float(vam)\n",
    "print(type(f))"
   ]
  },
  {
   "cell_type": "code",
   "execution_count": 9,
   "metadata": {},
   "outputs": [
    {
     "name": "stdout",
     "output_type": "stream",
     "text": [
      "4\n"
     ]
    }
   ],
   "source": [
    "#length of string\n",
    "a=1234\n",
    "print(len(str(a)))"
   ]
  },
  {
   "cell_type": "code",
   "execution_count": 10,
   "metadata": {
    "scrolled": true
   },
   "outputs": [
    {
     "name": "stdout",
     "output_type": "stream",
     "text": [
      "100\n",
      "10 10 10\n"
     ]
    }
   ],
   "source": [
    "n=100\n",
    "a=b=c=10\n",
    "print(n)\n",
    "print(a,b,c)"
   ]
  },
  {
   "cell_type": "code",
   "execution_count": 11,
   "metadata": {
    "scrolled": true
   },
   "outputs": [
    {
     "name": "stdout",
     "output_type": "stream",
     "text": [
      "374144419156711147060143317175368453031918731001866\n"
     ]
    }
   ],
   "source": [
    "x= 6+ 8**56 +(4+0)\n",
    "print(x)"
   ]
  },
  {
   "cell_type": "markdown",
   "metadata": {},
   "source": [
    "#Operators\n",
    "- +\n",
    "- -\n",
    "- *\n",
    "- /\n",
    "- %\n",
    "- **\n",
    "- //"
   ]
  },
  {
   "cell_type": "markdown",
   "metadata": {},
   "source": [
    "# relational operators\n",
    "- ==,<= , >=, >, <, !="
   ]
  },
  {
   "cell_type": "markdown",
   "metadata": {},
   "source": [
    "# logical operators\n",
    "- and\n",
    "- or\n",
    "- not"
   ]
  },
  {
   "cell_type": "code",
   "execution_count": 3,
   "metadata": {
    "scrolled": true
   },
   "outputs": [
    {
     "name": "stdout",
     "output_type": "stream",
     "text": [
      "True\n",
      "True\n"
     ]
    }
   ],
   "source": [
    "i=39\n",
    "a = (i>29) and (i<40)\n",
    "b = (i>29) or (i<53)\n",
    "print(a)\n",
    "print(b)"
   ]
  },
  {
   "cell_type": "markdown",
   "metadata": {},
   "source": [
    "# membership operator\n",
    "- in\n",
    "- not in"
   ]
  },
  {
   "cell_type": "code",
   "execution_count": 4,
   "metadata": {},
   "outputs": [
    {
     "name": "stdout",
     "output_type": "stream",
     "text": [
      "True\n"
     ]
    }
   ],
   "source": [
    "print('a' in 'Vamshi')"
   ]
  },
  {
   "cell_type": "markdown",
   "metadata": {},
   "source": [
    "# control flow statements\n",
    "- conditional statements \n",
    "- looping statements\n",
    "-- if - else statements\n",
    "     - syntax\n",
    " ##### if condition:\n",
    " > *statements*\n",
    " \n",
    " ##### else:\n",
    " > statements\n",
    " "
   ]
  },
  {
   "cell_type": "code",
   "execution_count": 5,
   "metadata": {},
   "outputs": [
    {
     "name": "stdout",
     "output_type": "stream",
     "text": [
      "Enter a number5\n",
      "Odd\n"
     ]
    }
   ],
   "source": [
    "# checking a number is odd or even\n",
    "n = int(input(\"Enter a number\"))\n",
    "if n%2==0:\n",
    "    print(\"Even\")\n",
    "else:\n",
    "    print(\"Odd\")"
   ]
  },
  {
   "cell_type": "code",
   "execution_count": 7,
   "metadata": {
    "scrolled": true
   },
   "outputs": [
    {
     "name": "stdout",
     "output_type": "stream",
     "text": [
      "Enter a number6\n",
      "No!\n"
     ]
    }
   ],
   "source": [
    "# check given number is perfectly multiple of 3 and 5\n",
    "n = int(input(\"Enter a number\"))\n",
    "if n%3 and n%5==0:\n",
    "    print(\"it is\")\n",
    "else:\n",
    "    print(\"No!\")"
   ]
  },
  {
   "cell_type": "code",
   "execution_count": 13,
   "metadata": {},
   "outputs": [
    {
     "name": "stdout",
     "output_type": "stream",
     "text": [
      "Enter a number-7\n",
      "negative\n"
     ]
    }
   ],
   "source": [
    "# checking a number is positive, negative or zero\n",
    "n = int(input(\"Enter a number\"))\n",
    "if n>0:\n",
    "    print(\"Positive\")\n",
    "elif n==0:\n",
    "    print(\"zero\")\n",
    "else: \n",
    "    print(\"negative\")"
   ]
  },
  {
   "cell_type": "code",
   "execution_count": null,
   "metadata": {},
   "outputs": [],
   "source": []
  }
 ],
 "metadata": {
  "kernelspec": {
   "display_name": "Python 3",
   "language": "python",
   "name": "python3"
  }
 },
 "nbformat": 4,
 "nbformat_minor": 2
}
