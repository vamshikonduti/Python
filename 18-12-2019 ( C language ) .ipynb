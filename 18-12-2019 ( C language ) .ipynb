{
 "cells": [
  {
   "cell_type": "code",
   "execution_count": null,
   "metadata": {},
   "outputs": [],
   "source": [
    "# INT_MAX, INT_MIN\n",
    "#include<limits.h>\n",
    "void\n",
    "main ()\n",
    "{\n",
    "  int a;\n",
    "  a = INT_MAX;\n",
    "  printf (\"%d\", a);\n",
    "}\n"
   ]
  },
  {
   "cell_type": "code",
   "execution_count": 1,
   "metadata": {},
   "outputs": [
    {
     "ename": "SyntaxError",
     "evalue": "invalid syntax (<ipython-input-1-45ec405e4d14>, line 6)",
     "output_type": "error",
     "traceback": [
      "\u001b[1;36m  File \u001b[1;32m\"<ipython-input-1-45ec405e4d14>\"\u001b[1;36m, line \u001b[1;32m6\u001b[0m\n\u001b[1;33m    int i;\u001b[0m\n\u001b[1;37m        ^\u001b[0m\n\u001b[1;31mSyntaxError\u001b[0m\u001b[1;31m:\u001b[0m invalid syntax\n"
     ]
    }
   ],
   "source": [
    "# printing ASCII values\n",
    "#include<stdio.h>\n",
    "void\n",
    "main ()\n",
    "{\n",
    "  int i;\n",
    "  for(i=0;i<=200;i++)\n",
    "  {\n",
    "      printf(\"%c = %d \",i,i);\n",
    "  }\n",
    "}"
   ]
  },
  {
   "cell_type": "code",
   "execution_count": null,
   "metadata": {},
   "outputs": [],
   "source": [
    "#include<stdio.h>\n",
    "void\n",
    "main ()\n",
    "{\n",
    "  int i = 035;\n",
    "  printf (\"%d\", i);\n",
    "}\n"
   ]
  },
  {
   "cell_type": "code",
   "execution_count": null,
   "metadata": {},
   "outputs": [],
   "source": [
    "#include<stdio.h>\n",
    "void\n",
    "main ()\n",
    "{\n",
    "  int c,a,b;\n",
    "  c= scanf(\"%d%d\",&a,&b);\n",
    "  printf(\"\\n %d\",c);\n",
    "}"
   ]
  },
  {
   "cell_type": "code",
   "execution_count": null,
   "metadata": {},
   "outputs": [],
   "source": [
    "#include<stdio.h>\n",
    "void\n",
    "main ()\n",
    "{\n",
    "  int a=5, b=6, c;\n",
    "  c = b&&a++;\n",
    "  printf(\"%d\",a);\n",
    "}"
   ]
  },
  {
   "cell_type": "code",
   "execution_count": null,
   "metadata": {},
   "outputs": [],
   "source": [
    "#include<stdio.h>\n",
    "void\n",
    "main ()\n",
    "{\n",
    "long double a;\n",
    "printf(\"%d\",sizeof(a));\n",
    "}"
   ]
  },
  {
   "cell_type": "code",
   "execution_count": null,
   "metadata": {},
   "outputs": [],
   "source": [
    "#include<stdio.h>\n",
    "void\n",
    "main ()\n",
    "{\n",
    "int a=6, b=5, c;\n",
    "c= a<b?a:b;\n",
    "printf(\"%d\",c);\n",
    "}\n"
   ]
  }
 ],
 "metadata": {
  "kernelspec": {
   "display_name": "Python 3",
   "language": "python",
   "name": "python3"
  },
  "language_info": {
   "codemirror_mode": {
    "name": "ipython",
    "version": 3
   },
   "file_extension": ".py",
   "mimetype": "text/x-python",
   "name": "python",
   "nbconvert_exporter": "python",
   "pygments_lexer": "ipython3",
   "version": "3.7.3"
  }
 },
 "nbformat": 4,
 "nbformat_minor": 2
}
